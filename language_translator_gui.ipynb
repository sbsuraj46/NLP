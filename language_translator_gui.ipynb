{
 "cells": [
  {
   "cell_type": "code",
   "execution_count": 213,
   "metadata": {
    "colab": {
     "base_uri": "https://localhost:8080/"
    },
    "id": "nyWwuxoz-Ihg",
    "outputId": "4688b8fd-d1ce-49fa-ec84-302ee55851d0"
   },
   "outputs": [],
   "source": [
    "#pip install googletrans==4.0.0-rc1\n"
   ]
  },
  {
   "cell_type": "code",
   "execution_count": 214,
   "metadata": {},
   "outputs": [],
   "source": [
    "#pip install googletrans==4.0.0-rc1 ipywidgets"
   ]
  },
  {
   "cell_type": "code",
   "execution_count": 215,
   "metadata": {
    "id": "OUjZxbDO8qCt"
   },
   "outputs": [],
   "source": [
    "from tkinter import *\n",
    "from tkinter import ttk\n",
    "from googletrans import Translator , LANGUAGES\n"
   ]
  },
  {
   "cell_type": "code",
   "execution_count": null,
   "metadata": {
    "id": "RnH0h5hy-HYK"
   },
   "outputs": [],
   "source": []
  },
  {
   "cell_type": "code",
   "execution_count": 216,
   "metadata": {
    "colab": {
     "base_uri": "https://localhost:8080/",
     "height": 383
    },
    "id": "U7sdZlqM9dVJ",
    "outputId": "0f4f54ad-5476-41fd-9239-6916c00a9fce"
   },
   "outputs": [],
   "source": [
    "root  = Tk()\n",
    "root.geometry('1100x500')\n",
    "root.resizable(0,0)\n",
    "# root.iconbitmap('logo  suraj')\n",
    "# root['bg'] = 'skyblue'\n",
    "root.title('Language translator')\n",
    "Label(root , text = \"Language Translator\" , font = \"Arial 20 bold\").pack()\n",
    "\n",
    "\n",
    "\n",
    "\n"
   ]
  },
  {
   "cell_type": "code",
   "execution_count": 217,
   "metadata": {
    "id": "z-zc2dPHAa-5"
   },
   "outputs": [],
   "source": [
    "Label(root , text =\"Enter Text\" , font =\"arial 13 bold\" , bg = 'white smoke').place(x = 165 , y = 90)\n"
   ]
  },
  {
   "cell_type": "code",
   "execution_count": 218,
   "metadata": {},
   "outputs": [
    {
     "data": {
      "text/plain": [
       "''"
      ]
     },
     "execution_count": 218,
     "metadata": {},
     "output_type": "execute_result"
    }
   ],
   "source": [
    "Input_text = Entry(root , width = 60)\n",
    "Input_text.place (x= 30 , y = 130)\n",
    "Input_text.get()\n"
   ]
  },
  {
   "cell_type": "code",
   "execution_count": 219,
   "metadata": {},
   "outputs": [
    {
     "name": "stderr",
     "output_type": "stream",
     "text": [
      "Exception in Tkinter callback\n",
      "Traceback (most recent call last):\n",
      "  File \"C:\\Users\\ASUS\\AppData\\Local\\Programs\\Python\\Python311\\Lib\\tkinter\\__init__.py\", line 1948, in __call__\n",
      "    return self.func(*args)\n",
      "           ^^^^^^^^^^^^^^^^\n",
      "  File \"C:\\Users\\ASUS\\AppData\\Local\\Temp\\ipykernel_9196\\691318557.py\", line 13, in Translate\n",
      "    translated = translator.translate(text = Input_text.get() , dest =dest_lang.get())\n",
      "                 ^^^^^^^^^^^^^^^^^^^^^^^^^^^^^^^^^^^^^^^^^^^^^^^^^^^^^^^^^^^^^^^^^^^^^\n",
      "  File \"C:\\Users\\ASUS\\AppData\\Local\\Programs\\Python\\Python311\\Lib\\site-packages\\googletrans\\client.py\", line 191, in translate\n",
      "    raise ValueError('invalid destination language')\n",
      "ValueError: invalid destination language\n",
      "Exception in Tkinter callback\n",
      "Traceback (most recent call last):\n",
      "  File \"C:\\Users\\ASUS\\AppData\\Local\\Programs\\Python\\Python311\\Lib\\tkinter\\__init__.py\", line 1948, in __call__\n",
      "    return self.func(*args)\n",
      "           ^^^^^^^^^^^^^^^^\n",
      "  File \"C:\\Users\\ASUS\\AppData\\Local\\Temp\\ipykernel_9196\\691318557.py\", line 13, in Translate\n",
      "    translated = translator.translate(text = Input_text.get() , dest =dest_lang.get())\n",
      "                 ^^^^^^^^^^^^^^^^^^^^^^^^^^^^^^^^^^^^^^^^^^^^^^^^^^^^^^^^^^^^^^^^^^^^^\n",
      "  File \"C:\\Users\\ASUS\\AppData\\Local\\Programs\\Python\\Python311\\Lib\\site-packages\\googletrans\\client.py\", line 191, in translate\n",
      "    raise ValueError('invalid destination language')\n",
      "ValueError: invalid destination language\n",
      "Exception in Tkinter callback\n",
      "Traceback (most recent call last):\n",
      "  File \"C:\\Users\\ASUS\\AppData\\Local\\Programs\\Python\\Python311\\Lib\\tkinter\\__init__.py\", line 1948, in __call__\n",
      "    return self.func(*args)\n",
      "           ^^^^^^^^^^^^^^^^\n",
      "  File \"C:\\Users\\ASUS\\AppData\\Local\\Temp\\ipykernel_9196\\691318557.py\", line 13, in Translate\n",
      "    translated = translator.translate(text = Input_text.get() , dest =dest_lang.get())\n",
      "                 ^^^^^^^^^^^^^^^^^^^^^^^^^^^^^^^^^^^^^^^^^^^^^^^^^^^^^^^^^^^^^^^^^^^^^\n",
      "  File \"C:\\Users\\ASUS\\AppData\\Local\\Programs\\Python\\Python311\\Lib\\site-packages\\googletrans\\client.py\", line 191, in translate\n",
      "    raise ValueError('invalid destination language')\n",
      "ValueError: invalid destination language\n",
      "Exception in Tkinter callback\n",
      "Traceback (most recent call last):\n",
      "  File \"C:\\Users\\ASUS\\AppData\\Local\\Programs\\Python\\Python311\\Lib\\tkinter\\__init__.py\", line 1948, in __call__\n",
      "    return self.func(*args)\n",
      "           ^^^^^^^^^^^^^^^^\n",
      "  File \"C:\\Users\\ASUS\\AppData\\Local\\Temp\\ipykernel_9196\\691318557.py\", line 13, in Translate\n",
      "    translated = translator.translate(text = Input_text.get() , dest =dest_lang.get())\n",
      "                 ^^^^^^^^^^^^^^^^^^^^^^^^^^^^^^^^^^^^^^^^^^^^^^^^^^^^^^^^^^^^^^^^^^^^^\n",
      "  File \"C:\\Users\\ASUS\\AppData\\Local\\Programs\\Python\\Python311\\Lib\\site-packages\\googletrans\\client.py\", line 191, in translate\n",
      "    raise ValueError('invalid destination language')\n",
      "ValueError: invalid destination language\n"
     ]
    }
   ],
   "source": [
    "Label(root , text = \"Output\" , font = \"arial 13 bold \" , bg ='white smoke').place(x = 780 , y =90)\n",
    "output_text = Text(root , font = \"arial 10\" , height = 5 , wrap = WORD , padx = 5 , pady = 5 , width =50)\n",
    "output_text.place(x = 600 , y = 130)\n",
    "\n",
    "language = list(LANGUAGES.values())\n",
    "dest_lang= ttk.Combobox(root , values = language, width = 22)\n",
    "dest_lang.place(x = 130 , y = 160)\n",
    "dest_lang.set('choose language')\n",
    "\n",
    "\n",
    "def Translate():\n",
    "    translator = Translator()\n",
    "    translated = translator.translate(text = Input_text.get() , dest =dest_lang.get())\n",
    "    output_text.delete(1.0 , END)\n",
    "    output_text.insert(END , translated.text)\n",
    "trans_btn = Button(root , text ='Translate' , font = 'arial 12  bold' , pady = 5 , command = Translate , bg = 'orange' ,activebackground =\"green\" )  \n",
    "trans_btn.place(x = 445 , y = 180)\n",
    "\n",
    "# Footer label\n",
    "footer = Label(root, text=\"Design and Developed by Suraj Bhattarai\", font='arial 10 bold')\n",
    "footer.place(x=445, y=360)\n",
    "\n",
    "root.mainloop()"
   ]
  }
 ],
 "metadata": {
  "colab": {
   "provenance": []
  },
  "kernelspec": {
   "display_name": "Python 3 (ipykernel)",
   "language": "python",
   "name": "python3"
  },
  "language_info": {
   "codemirror_mode": {
    "name": "ipython",
    "version": 3
   },
   "file_extension": ".py",
   "mimetype": "text/x-python",
   "name": "python",
   "nbconvert_exporter": "python",
   "pygments_lexer": "ipython3",
   "version": "3.11.2"
  }
 },
 "nbformat": 4,
 "nbformat_minor": 4
}
