{
 "cells": [
  {
   "cell_type": "code",
   "execution_count": 28,
   "id": "1aab4923-f394-414a-a404-c38acb710f2e",
   "metadata": {},
   "outputs": [],
   "source": [
    "import nltk"
   ]
  },
  {
   "cell_type": "code",
   "execution_count": 158,
   "id": "58b3bbd6-ab2d-4712-aa22-d0101e0cd90d",
   "metadata": {},
   "outputs": [
    {
     "data": {
      "text/plain": [
       "<Grammar with 13 productions>"
      ]
     },
     "execution_count": 158,
     "metadata": {},
     "output_type": "execute_result"
    }
   ],
   "source": [
    "# grammer\n",
    "#1- string\n",
    "#2 - file *cfg\n",
    "\n",
    "grammar = nltk.CFG.fromstring(\"\"\"\n",
    "                              S -> NP VP\n",
    "                              PP -> P NP\n",
    "                              NP -> Det N|Det N PP | 'I'\n",
    "                              VP -> V NP | VP PP\n",
    "                              Det ->'an' |'my'\n",
    "                              N -> 'elephant' |'pajamas'\n",
    "                              V -> 'shot'\n",
    "                              P -> 'in'\n",
    "\"\"\")\n",
    "grammar"
   ]
  },
  {
   "cell_type": "code",
   "execution_count": 159,
   "id": "644fe89d-e47d-4eec-b373-879015cab554",
   "metadata": {},
   "outputs": [
    {
     "data": {
      "text/plain": [
       "S"
      ]
     },
     "execution_count": 159,
     "metadata": {},
     "output_type": "execute_result"
    }
   ],
   "source": [
    "grammar.start()"
   ]
  },
  {
   "cell_type": "code",
   "execution_count": 151,
   "id": "31e1100c-0664-4911-9af2-39eb0ac20c72",
   "metadata": {},
   "outputs": [
    {
     "data": {
      "text/plain": [
       "[S -> NP VP,\n",
       " PP -> P NP,\n",
       " NP -> DeT N,\n",
       " NP -> Det N PP,\n",
       " NP -> 'I',\n",
       " VP -> V NP,\n",
       " VP -> VP PP,\n",
       " Det -> 'an',\n",
       " Det -> 'my',\n",
       " N -> 'elephant',\n",
       " N -> 'pajamas',\n",
       " V -> 'shot',\n",
       " P -> 'in']"
      ]
     },
     "execution_count": 151,
     "metadata": {},
     "output_type": "execute_result"
    }
   ],
   "source": [
    "grammar.productions()\n"
   ]
  },
  {
   "cell_type": "code",
   "execution_count": 160,
   "id": "7c37b197-5085-4754-a141-b5c2f795d4fc",
   "metadata": {},
   "outputs": [
    {
     "data": {
      "text/plain": [
       "[NP -> Det N, NP -> Det N PP, NP -> 'I']"
      ]
     },
     "execution_count": 160,
     "metadata": {},
     "output_type": "execute_result"
    }
   ],
   "source": [
    "#left side filtering\n",
    "lhs_np = grammar.productions(lhs =nltk.Nonterminal('NP'))\n",
    "lhs_np"
   ]
  },
  {
   "cell_type": "code",
   "execution_count": 161,
   "id": "b0ddebbb-d625-4881-94ae-831ab8fdc2b3",
   "metadata": {},
   "outputs": [
    {
     "data": {
      "text/plain": [
       "[NP -> Det N, NP -> Det N PP]"
      ]
     },
     "execution_count": 161,
     "metadata": {},
     "output_type": "execute_result"
    }
   ],
   "source": [
    "# right side filtering\n",
    "rhs_np = grammar.productions(rhs =nltk.Nonterminal('Det'))\n",
    "rhs_np"
   ]
  },
  {
   "cell_type": "code",
   "execution_count": 162,
   "id": "f94dad83-8b70-4694-8ca7-144a7b13a2e5",
   "metadata": {},
   "outputs": [
    {
     "data": {
      "text/plain": [
       "['I', 'shot', 'an', 'elephant', 'in', 'my', 'pajamas']"
      ]
     },
     "execution_count": 162,
     "metadata": {},
     "output_type": "execute_result"
    }
   ],
   "source": [
    "sentence = \"I shot an elephant in my pajamas\".split()\n",
    "sentence"
   ]
  },
  {
   "cell_type": "code",
   "execution_count": 163,
   "id": "f9162550-72dd-442c-92e0-3c3617d8fbbd",
   "metadata": {},
   "outputs": [],
   "source": [
    "parser = nltk.ChartParser(grammar)\n",
    "parsed_tree = list(parser.parse(sentence))"
   ]
  },
  {
   "cell_type": "code",
   "execution_count": 164,
   "id": "b53b8ae5-af81-4b59-acb5-3d873d2fad15",
   "metadata": {},
   "outputs": [
    {
     "data": {
      "text/plain": [
       "[S -> NP VP,\n",
       " PP -> P NP,\n",
       " NP -> Det N,\n",
       " NP -> Det N PP,\n",
       " NP -> 'I',\n",
       " VP -> V NP,\n",
       " VP -> VP PP,\n",
       " Det -> 'an',\n",
       " Det -> 'my',\n",
       " N -> 'elephant',\n",
       " N -> 'pajamas',\n",
       " V -> 'shot',\n",
       " P -> 'in']"
      ]
     },
     "execution_count": 164,
     "metadata": {},
     "output_type": "execute_result"
    }
   ],
   "source": [
    "parser.grammar().productions()"
   ]
  },
  {
   "cell_type": "code",
   "execution_count": 68,
   "id": "e26be225-eaf1-4b74-b5e3-bb33febe85c7",
   "metadata": {},
   "outputs": [
    {
     "name": "stdout",
     "output_type": "stream",
     "text": [
      "Python 3.11.2\n"
     ]
    }
   ],
   "source": [
    "\n",
    "#nltk. __version__\n",
    "#python version\n",
    "#!python --version"
   ]
  },
  {
   "cell_type": "code",
   "execution_count": 165,
   "id": "f33017b0-626b-45d9-9707-22c68ccceb3e",
   "metadata": {},
   "outputs": [
    {
     "data": {
      "text/plain": [
       "2"
      ]
     },
     "execution_count": 165,
     "metadata": {},
     "output_type": "execute_result"
    }
   ],
   "source": [
    "len(parsed_tree)"
   ]
  },
  {
   "cell_type": "code",
   "execution_count": 139,
   "id": "8f7dcc50-0ace-46bd-b9d9-c0a4ccd8f2f2",
   "metadata": {},
   "outputs": [
    {
     "data": {
      "text/plain": [
       "<Grammar with 12 productions>"
      ]
     },
     "execution_count": 139,
     "metadata": {},
     "output_type": "execute_result"
    }
   ],
   "source": [
    "# next cfg  rule\n",
    "grammar2 = nltk.CFG.fromstring(\"\"\"\n",
    "                S -> NP  VP\n",
    "                NP -> Det Noun | NP PP\n",
    "                PP -> Pre NP\n",
    "                VP -> Verb NP\n",
    "                Det -> 'a' | 'the'\n",
    "                Noun -> 'cake' | 'child' | 'fork'\n",
    "                Pre -> 'with'\n",
    "                Verb -> 'ate'\n",
    "\"\"\")\n",
    "grammar2"
   ]
  },
  {
   "cell_type": "code",
   "execution_count": 143,
   "id": "6ba1d8bc-be3f-4d34-a15f-152011aef47c",
   "metadata": {},
   "outputs": [
    {
     "data": {
      "text/plain": [
       "1"
      ]
     },
     "execution_count": 143,
     "metadata": {},
     "output_type": "execute_result"
    }
   ],
   "source": [
    "#grammar2\n",
    "parser = nltk.ChartParser(grammar2)\n",
    "#parser grammar().productions()\n",
    "sent2 = \"a child ate the cake with a  fork\".split()\n",
    "parsed_trees = list(parser.parse(sent2))\n",
    "len(parsed_trees)"
   ]
  },
  {
   "cell_type": "code",
   "execution_count": 145,
   "id": "af459096-423b-4da5-941d-bffd24efa282",
   "metadata": {},
   "outputs": [
    {
     "name": "stdout",
     "output_type": "stream",
     "text": [
      "Collecting svgling\n",
      "  Downloading svgling-0.3.1-py3-none-any.whl (21 kB)\n",
      "Collecting svgwrite (from svgling)\n",
      "  Downloading svgwrite-1.4.3-py3-none-any.whl (67 kB)\n",
      "                                              0.0/67.1 kB ? eta -:--:--\n",
      "     -----------------------                41.0/67.1 kB 991.0 kB/s eta 0:00:01\n",
      "     -----------------------                41.0/67.1 kB 991.0 kB/s eta 0:00:01\n",
      "     -----------------------                41.0/67.1 kB 991.0 kB/s eta 0:00:01\n",
      "     -----------------------                41.0/67.1 kB 991.0 kB/s eta 0:00:01\n",
      "     -----------------------                41.0/67.1 kB 991.0 kB/s eta 0:00:01\n",
      "     -----------------------                41.0/67.1 kB 991.0 kB/s eta 0:00:01\n",
      "     -------------------------------------- 67.1/67.1 kB 181.7 kB/s eta 0:00:00\n",
      "Installing collected packages: svgwrite, svgling\n",
      "Successfully installed svgling-0.3.1 svgwrite-1.4.3\n",
      "(S\n",
      "  (NP (Det a) (Noun child))\n",
      "  (VP\n",
      "    (Verb ate)\n",
      "    (NP\n",
      "      (NP (Det the) (Noun cake))\n",
      "      (PP (Pre with) (NP (Det a) (Noun fork))))))\n"
     ]
    },
    {
     "name": "stderr",
     "output_type": "stream",
     "text": [
      "\n",
      "[notice] A new release of pip is available: 23.1.2 -> 23.2.1\n",
      "[notice] To update, run: python.exe -m pip install --upgrade pip\n"
     ]
    }
   ],
   "source": [
    "! pip install svgling\n",
    "for tree in parsed_trees:\n",
    "    print(tree)"
   ]
  },
  {
   "cell_type": "code",
   "execution_count": 148,
   "id": "90516199-0ac1-4384-b1a3-fc48f0291a35",
   "metadata": {},
   "outputs": [
    {
     "data": {
      "image/svg+xml": [
       "<svg baseProfile=\"full\" height=\"312px\" preserveAspectRatio=\"xMidYMid meet\" style=\"font-family: times, serif; font-weight:normal; font-style: normal; font-size: 16px;\" version=\"1.1\" viewBox=\"0,0,368.0,312.0\" width=\"368px\" xmlns=\"http://www.w3.org/2000/svg\" xmlns:ev=\"http://www.w3.org/2001/xml-events\" xmlns:xlink=\"http://www.w3.org/1999/xlink\"><defs /><svg width=\"100%\" x=\"0\" y=\"0em\"><defs /><text text-anchor=\"middle\" x=\"50%\" y=\"1em\">S</text></svg><svg width=\"26.087%\" x=\"0%\" y=\"3em\"><defs /><svg width=\"100%\" x=\"0\" y=\"0em\"><defs /><text text-anchor=\"middle\" x=\"50%\" y=\"1em\">NP</text></svg><svg width=\"41.6667%\" x=\"0%\" y=\"3em\"><defs /><svg width=\"100%\" x=\"0\" y=\"0em\"><defs /><text text-anchor=\"middle\" x=\"50%\" y=\"1em\">Det</text></svg><svg width=\"100%\" x=\"0%\" y=\"3em\"><defs /><svg width=\"100%\" x=\"0\" y=\"0em\"><defs /><text text-anchor=\"middle\" x=\"50%\" y=\"1em\">a</text></svg></svg><line stroke=\"black\" x1=\"50%\" x2=\"50%\" y1=\"1.2em\" y2=\"3em\" /></svg><line stroke=\"black\" x1=\"50%\" x2=\"20.8333%\" y1=\"1.2em\" y2=\"3em\" /><svg width=\"58.3333%\" x=\"41.6667%\" y=\"3em\"><defs /><svg width=\"100%\" x=\"0\" y=\"0em\"><defs /><text text-anchor=\"middle\" x=\"50%\" y=\"1em\">Noun</text></svg><svg width=\"100%\" x=\"0%\" y=\"3em\"><defs /><svg width=\"100%\" x=\"0\" y=\"0em\"><defs /><text text-anchor=\"middle\" x=\"50%\" y=\"1em\">child</text></svg></svg><line stroke=\"black\" x1=\"50%\" x2=\"50%\" y1=\"1.2em\" y2=\"3em\" /></svg><line stroke=\"black\" x1=\"50%\" x2=\"70.8333%\" y1=\"1.2em\" y2=\"3em\" /></svg><line stroke=\"black\" x1=\"50%\" x2=\"13.0435%\" y1=\"1.2em\" y2=\"3em\" /><svg width=\"73.913%\" x=\"26.087%\" y=\"3em\"><defs /><svg width=\"100%\" x=\"0\" y=\"0em\"><defs /><text text-anchor=\"middle\" x=\"50%\" y=\"1em\">VP</text></svg><svg width=\"17.6471%\" x=\"0%\" y=\"3em\"><defs /><svg width=\"100%\" x=\"0\" y=\"0em\"><defs /><text text-anchor=\"middle\" x=\"50%\" y=\"1em\">Verb</text></svg><svg width=\"100%\" x=\"0%\" y=\"3em\"><defs /><svg width=\"100%\" x=\"0\" y=\"0em\"><defs /><text text-anchor=\"middle\" x=\"50%\" y=\"1em\">ate</text></svg></svg><line stroke=\"black\" x1=\"50%\" x2=\"50%\" y1=\"1.2em\" y2=\"3em\" /></svg><line stroke=\"black\" x1=\"50%\" x2=\"8.82353%\" y1=\"1.2em\" y2=\"3em\" /><svg width=\"82.3529%\" x=\"17.6471%\" y=\"3em\"><defs /><svg width=\"100%\" x=\"0\" y=\"0em\"><defs /><text text-anchor=\"middle\" x=\"50%\" y=\"1em\">NP</text></svg><svg width=\"39.2857%\" x=\"0%\" y=\"3em\"><defs /><svg width=\"100%\" x=\"0\" y=\"0em\"><defs /><text text-anchor=\"middle\" x=\"50%\" y=\"1em\">NP</text></svg><svg width=\"45.4545%\" x=\"0%\" y=\"3em\"><defs /><svg width=\"100%\" x=\"0\" y=\"0em\"><defs /><text text-anchor=\"middle\" x=\"50%\" y=\"1em\">Det</text></svg><svg width=\"100%\" x=\"0%\" y=\"3em\"><defs /><svg width=\"100%\" x=\"0\" y=\"0em\"><defs /><text text-anchor=\"middle\" x=\"50%\" y=\"1em\">the</text></svg></svg><line stroke=\"black\" x1=\"50%\" x2=\"50%\" y1=\"1.2em\" y2=\"3em\" /></svg><line stroke=\"black\" x1=\"50%\" x2=\"22.7273%\" y1=\"1.2em\" y2=\"3em\" /><svg width=\"54.5455%\" x=\"45.4545%\" y=\"3em\"><defs /><svg width=\"100%\" x=\"0\" y=\"0em\"><defs /><text text-anchor=\"middle\" x=\"50%\" y=\"1em\">Noun</text></svg><svg width=\"100%\" x=\"0%\" y=\"3em\"><defs /><svg width=\"100%\" x=\"0\" y=\"0em\"><defs /><text text-anchor=\"middle\" x=\"50%\" y=\"1em\">cake</text></svg></svg><line stroke=\"black\" x1=\"50%\" x2=\"50%\" y1=\"1.2em\" y2=\"3em\" /></svg><line stroke=\"black\" x1=\"50%\" x2=\"72.7273%\" y1=\"1.2em\" y2=\"3em\" /></svg><line stroke=\"black\" x1=\"50%\" x2=\"19.6429%\" y1=\"1.2em\" y2=\"3em\" /><svg width=\"60.7143%\" x=\"39.2857%\" y=\"3em\"><defs /><svg width=\"100%\" x=\"0\" y=\"0em\"><defs /><text text-anchor=\"middle\" x=\"50%\" y=\"1em\">PP</text></svg><svg width=\"35.2941%\" x=\"0%\" y=\"3em\"><defs /><svg width=\"100%\" x=\"0\" y=\"0em\"><defs /><text text-anchor=\"middle\" x=\"50%\" y=\"1em\">Pre</text></svg><svg width=\"100%\" x=\"0%\" y=\"3em\"><defs /><svg width=\"100%\" x=\"0\" y=\"0em\"><defs /><text text-anchor=\"middle\" x=\"50%\" y=\"1em\">with</text></svg></svg><line stroke=\"black\" x1=\"50%\" x2=\"50%\" y1=\"1.2em\" y2=\"3em\" /></svg><line stroke=\"black\" x1=\"50%\" x2=\"17.6471%\" y1=\"1.2em\" y2=\"3em\" /><svg width=\"64.7059%\" x=\"35.2941%\" y=\"3em\"><defs /><svg width=\"100%\" x=\"0\" y=\"0em\"><defs /><text text-anchor=\"middle\" x=\"50%\" y=\"1em\">NP</text></svg><svg width=\"45.4545%\" x=\"0%\" y=\"3em\"><defs /><svg width=\"100%\" x=\"0\" y=\"0em\"><defs /><text text-anchor=\"middle\" x=\"50%\" y=\"1em\">Det</text></svg><svg width=\"100%\" x=\"0%\" y=\"3em\"><defs /><svg width=\"100%\" x=\"0\" y=\"0em\"><defs /><text text-anchor=\"middle\" x=\"50%\" y=\"1em\">a</text></svg></svg><line stroke=\"black\" x1=\"50%\" x2=\"50%\" y1=\"1.2em\" y2=\"3em\" /></svg><line stroke=\"black\" x1=\"50%\" x2=\"22.7273%\" y1=\"1.2em\" y2=\"3em\" /><svg width=\"54.5455%\" x=\"45.4545%\" y=\"3em\"><defs /><svg width=\"100%\" x=\"0\" y=\"0em\"><defs /><text text-anchor=\"middle\" x=\"50%\" y=\"1em\">Noun</text></svg><svg width=\"100%\" x=\"0%\" y=\"3em\"><defs /><svg width=\"100%\" x=\"0\" y=\"0em\"><defs /><text text-anchor=\"middle\" x=\"50%\" y=\"1em\">fork</text></svg></svg><line stroke=\"black\" x1=\"50%\" x2=\"50%\" y1=\"1.2em\" y2=\"3em\" /></svg><line stroke=\"black\" x1=\"50%\" x2=\"72.7273%\" y1=\"1.2em\" y2=\"3em\" /></svg><line stroke=\"black\" x1=\"50%\" x2=\"67.6471%\" y1=\"1.2em\" y2=\"3em\" /></svg><line stroke=\"black\" x1=\"50%\" x2=\"69.6429%\" y1=\"1.2em\" y2=\"3em\" /></svg><line stroke=\"black\" x1=\"50%\" x2=\"58.8235%\" y1=\"1.2em\" y2=\"3em\" /></svg><line stroke=\"black\" x1=\"50%\" x2=\"63.0435%\" y1=\"1.2em\" y2=\"3em\" /></svg>"
      ],
      "text/plain": [
       "Tree('S', [Tree('NP', [Tree('Det', ['a']), Tree('Noun', ['child'])]), Tree('VP', [Tree('Verb', ['ate']), Tree('NP', [Tree('NP', [Tree('Det', ['the']), Tree('Noun', ['cake'])]), Tree('PP', [Tree('Pre', ['with']), Tree('NP', [Tree('Det', ['a']), Tree('Noun', ['fork'])])])])])])"
      ]
     },
     "execution_count": 148,
     "metadata": {},
     "output_type": "execute_result"
    }
   ],
   "source": [
    "parsed_trees[0]"
   ]
  },
  {
   "cell_type": "code",
   "execution_count": null,
   "id": "dffee1c2-bdd2-4af3-895a-6e601558a653",
   "metadata": {},
   "outputs": [],
   "source": []
  }
 ],
 "metadata": {
  "kernelspec": {
   "display_name": "Python 3 (ipykernel)",
   "language": "python",
   "name": "python3"
  },
  "language_info": {
   "codemirror_mode": {
    "name": "ipython",
    "version": 3
   },
   "file_extension": ".py",
   "mimetype": "text/x-python",
   "name": "python",
   "nbconvert_exporter": "python",
   "pygments_lexer": "ipython3",
   "version": "3.11.2"
  }
 },
 "nbformat": 4,
 "nbformat_minor": 5
}
