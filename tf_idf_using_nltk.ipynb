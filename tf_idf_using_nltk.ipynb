{
 "cells": [
  {
   "cell_type": "code",
   "execution_count": 1,
   "id": "9a31a3ef-1461-468e-824e-0fca6ca69a56",
   "metadata": {},
   "outputs": [],
   "source": [
    "import nltk\n",
    "from nltk.tokenize import word_tokenize"
   ]
  },
  {
   "cell_type": "code",
   "execution_count": 5,
   "id": "e18976f3-757e-445f-a5eb-f1cff4ff9f62",
   "metadata": {},
   "outputs": [],
   "source": [
    "text =\" The authors address the pressing need for a machine translation system between the Tamang and Nepali languages.\\\n",
    "With over 1.3 million Tamang speakers in Nepal and the looming threat of language loss, this research explores a groundbreaking solution.\\\n",
    "According to the authors, they created a parallel corpus comprising 15,000 sentences in Tamang and Nepali sourced from various materials, including day-to-day spoken communication texts, child storybooks, general articles from Tamang language magazines, and literary articles.\\\n",
    "To develop a translation system for the Tamang-Nepali language pair, the authors adopted the recent state-of-the-art Transformer NMT architecture, resulting in a fully supervised Neural Machine Translation system.\""
   ]
  },
  {
   "cell_type": "code",
   "execution_count": 13,
   "id": "91a3d6d8-c0f9-4c55-98e8-b2fe276bc8d6",
   "metadata": {},
   "outputs": [],
   "source": [
    "#\n",
    "sentence =[]\n",
    "word_set =[]"
   ]
  },
  {
   "cell_type": "code",
   "execution_count": 17,
   "id": "3608d7d8-13e7-47d2-957b-082e6a3c29bc",
   "metadata": {},
   "outputs": [],
   "source": [
    " for sent in  text:\n",
    "        z=[i.lower  for i in  word_tokenize(sent) if i.isalpha]\n",
    "        sentence.append(z)\n",
    "        for word in z:\n",
    "            if word not in  word_set:\n",
    "                word_set.append(word)\n",
    "        word_set = set(word_set)"
   ]
  },
  {
   "cell_type": "code",
   "execution_count": 32,
   "id": "70306dd0-5e69-4988-834c-9ad1092960e4",
   "metadata": {},
   "outputs": [
    {
     "ename": "TypeError",
     "evalue": "'tuple' object does not support item assignment",
     "output_type": "error",
     "traceback": [
      "\u001b[1;31m---------------------------------------------------------------------------\u001b[0m",
      "\u001b[1;31mTypeError\u001b[0m                                 Traceback (most recent call last)",
      "Cell \u001b[1;32mIn[32], line 9\u001b[0m\n\u001b[0;32m      7\u001b[0m                 word_count[word]\u001b[38;5;241m+\u001b[39m\u001b[38;5;241m=\u001b[39m\u001b[38;5;241m1\u001b[39m\n\u001b[0;32m      8\u001b[0m     \u001b[38;5;28;01mreturn\u001b[39;00m word_count\n\u001b[1;32m----> 9\u001b[0m word_count  \u001b[38;5;241m=\u001b[39m \u001b[43mcount_dict\u001b[49m\u001b[43m(\u001b[49m\u001b[43msentence\u001b[49m\u001b[43m)\u001b[49m\n",
      "Cell \u001b[1;32mIn[32], line 4\u001b[0m, in \u001b[0;36mcount_dict\u001b[1;34m(sentence)\u001b[0m\n\u001b[0;32m      2\u001b[0m word_count \u001b[38;5;241m=\u001b[39m ()\n\u001b[0;32m      3\u001b[0m \u001b[38;5;28;01mfor\u001b[39;00m word \u001b[38;5;129;01min\u001b[39;00m  word_set:\n\u001b[1;32m----> 4\u001b[0m     \u001b[43mword_count\u001b[49m\u001b[43m[\u001b[49m\u001b[43mword\u001b[49m\u001b[43m]\u001b[49m \u001b[38;5;241m=\u001b[39m \u001b[38;5;241m0\u001b[39m\n\u001b[0;32m      5\u001b[0m     \u001b[38;5;28;01mfor\u001b[39;00m sent \u001b[38;5;129;01min\u001b[39;00m sentences:\n\u001b[0;32m      6\u001b[0m         \u001b[38;5;28;01mif\u001b[39;00m word \u001b[38;5;129;01min\u001b[39;00m sent:\n",
      "\u001b[1;31mTypeError\u001b[0m: 'tuple' object does not support item assignment"
     ]
    }
   ],
   "source": [
    "def count_dict(sentence):\n",
    "    word_count = ()\n",
    "    for word in  word_set:\n",
    "        word_count[word] = 0\n",
    "        for sent in sentences:\n",
    "            if word in sent:\n",
    "                word_count[word]+=1\n",
    "    return word_count\n",
    "word_count  = count_dict(sentence)"
   ]
  },
  {
   "cell_type": "code",
   "execution_count": 33,
   "id": "2b1292f1-46f4-4e48-994c-01d0a45e1275",
   "metadata": {},
   "outputs": [
    {
     "ename": "SyntaxError",
     "evalue": "incomplete input (2686244901.py, line 3)",
     "output_type": "error",
     "traceback": [
      "\u001b[1;36m  Cell \u001b[1;32mIn[33], line 3\u001b[1;36m\u001b[0m\n\u001b[1;33m    def term_freq(document , word):\u001b[0m\n\u001b[1;37m                                   ^\u001b[0m\n\u001b[1;31mSyntaxError\u001b[0m\u001b[1;31m:\u001b[0m incomplete input\n"
     ]
    }
   ],
   "source": [
    "#term freq\n",
    "\n",
    "def term_freq(document , word):\n",
    "    N = len(document)\n",
    "    occurance = len( w for  w in word  )"
   ]
  },
  {
   "cell_type": "code",
   "execution_count": null,
   "id": "7aa17473-1056-4db3-afc2-8ad276b25040",
   "metadata": {},
   "outputs": [],
   "source": []
  }
 ],
 "metadata": {
  "kernelspec": {
   "display_name": "Python 3 (ipykernel)",
   "language": "python",
   "name": "python3"
  },
  "language_info": {
   "codemirror_mode": {
    "name": "ipython",
    "version": 3
   },
   "file_extension": ".py",
   "mimetype": "text/x-python",
   "name": "python",
   "nbconvert_exporter": "python",
   "pygments_lexer": "ipython3",
   "version": "3.11.2"
  }
 },
 "nbformat": 4,
 "nbformat_minor": 5
}
