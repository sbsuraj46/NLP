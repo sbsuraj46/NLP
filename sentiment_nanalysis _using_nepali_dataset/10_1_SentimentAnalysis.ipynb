{
  "nbformat": 4,
  "nbformat_minor": 0,
  "metadata": {
    "colab": {
      "provenance": []
    },
    "kernelspec": {
      "name": "python3",
      "display_name": "Python 3"
    },
    "language_info": {
      "name": "python"
    }
  },
  "cells": [
    {
      "cell_type": "markdown",
      "source": [
        "# Sentiment Analysis using Tensor flow"
      ],
      "metadata": {
        "id": "TnDSRQb5P2uU"
      }
    },
    {
      "cell_type": "markdown",
      "source": [
        "Nepali Dataset: https://github.com/oya163/nepali-sentiment-analysis/tree/master/data/nepcls/csv\n"
      ],
      "metadata": {
        "id": "6hd8FCjflAf5"
      }
    },
    {
      "cell_type": "code",
      "source": [
        "import numpy as np\n",
        "import pandas as pd\n",
        "import tensorflow as tf\n",
        "import matplotlib.pyplot as plt"
      ],
      "metadata": {
        "id": "Uzxl6YtJ-TjE"
      },
      "execution_count": null,
      "outputs": []
    },
    {
      "cell_type": "code",
      "source": [
        "df = pd.read_csv('/content/ss_ac_at_txt_unbal.csv', header=None)"
      ],
      "metadata": {
        "id": "oSGqk8iH-Ysd"
      },
      "execution_count": null,
      "outputs": []
    },
    {
      "cell_type": "code",
      "source": [
        "df.columns = [\"sentiment\", \"category\",\"summary\",\"text\"]\n",
        "df.head()\n",
        "\n",
        "# 0: +ve\n",
        "# 1: -ve"
      ],
      "metadata": {
        "colab": {
          "base_uri": "https://localhost:8080/",
          "height": 206
        },
        "id": "z_2tGoim_7MI",
        "outputId": "67700409-6847-43f5-d894-f14e8729d630"
      },
      "execution_count": null,
      "outputs": [
        {
          "output_type": "execute_result",
          "data": {
            "text/plain": [
              "   sentiment category               summary  \\\n",
              "0          0  GENERAL        जोगाउन को लागि   \n",
              "1          1  GENERAL             लखेटनु पछ   \n",
              "2          1  GENERAL  ससकृती ध्वस्त पार्ने   \n",
              "3          1  GENERAL              भुमाफिया   \n",
              "4          1  GENERAL              बेची सके   \n",
              "\n",
              "                                                text  \n",
              "0  गुठी विधेक ल्याएर ठमेल मा राज गुठि को जग्गा मा...  \n",
              "1  दले ले देश सकेछन सबै बेचे र खान सुरू गरेछन अब ...  \n",
              "2        नेपाल को ससकृती ध्वस्त पार्ने योजना हो यो !  \n",
              "3  मठ मन्दिर गुम्बा का जग्गा हरु मा भुमाफिया को न...  \n",
              "4  नेपाल का कल कर्खाना र नदि नाला बेची सके अब मठ ...  "
            ],
            "text/html": [
              "\n",
              "  <div id=\"df-3738e778-65ca-4320-8f25-fe5879cd50b0\" class=\"colab-df-container\">\n",
              "    <div>\n",
              "<style scoped>\n",
              "    .dataframe tbody tr th:only-of-type {\n",
              "        vertical-align: middle;\n",
              "    }\n",
              "\n",
              "    .dataframe tbody tr th {\n",
              "        vertical-align: top;\n",
              "    }\n",
              "\n",
              "    .dataframe thead th {\n",
              "        text-align: right;\n",
              "    }\n",
              "</style>\n",
              "<table border=\"1\" class=\"dataframe\">\n",
              "  <thead>\n",
              "    <tr style=\"text-align: right;\">\n",
              "      <th></th>\n",
              "      <th>sentiment</th>\n",
              "      <th>category</th>\n",
              "      <th>summary</th>\n",
              "      <th>text</th>\n",
              "    </tr>\n",
              "  </thead>\n",
              "  <tbody>\n",
              "    <tr>\n",
              "      <th>0</th>\n",
              "      <td>0</td>\n",
              "      <td>GENERAL</td>\n",
              "      <td>जोगाउन को लागि</td>\n",
              "      <td>गुठी विधेक ल्याएर ठमेल मा राज गुठि को जग्गा मा...</td>\n",
              "    </tr>\n",
              "    <tr>\n",
              "      <th>1</th>\n",
              "      <td>1</td>\n",
              "      <td>GENERAL</td>\n",
              "      <td>लखेटनु पछ</td>\n",
              "      <td>दले ले देश सकेछन सबै बेचे र खान सुरू गरेछन अब ...</td>\n",
              "    </tr>\n",
              "    <tr>\n",
              "      <th>2</th>\n",
              "      <td>1</td>\n",
              "      <td>GENERAL</td>\n",
              "      <td>ससकृती ध्वस्त पार्ने</td>\n",
              "      <td>नेपाल को ससकृती ध्वस्त पार्ने योजना हो यो !</td>\n",
              "    </tr>\n",
              "    <tr>\n",
              "      <th>3</th>\n",
              "      <td>1</td>\n",
              "      <td>GENERAL</td>\n",
              "      <td>भुमाफिया</td>\n",
              "      <td>मठ मन्दिर गुम्बा का जग्गा हरु मा भुमाफिया को न...</td>\n",
              "    </tr>\n",
              "    <tr>\n",
              "      <th>4</th>\n",
              "      <td>1</td>\n",
              "      <td>GENERAL</td>\n",
              "      <td>बेची सके</td>\n",
              "      <td>नेपाल का कल कर्खाना र नदि नाला बेची सके अब मठ ...</td>\n",
              "    </tr>\n",
              "  </tbody>\n",
              "</table>\n",
              "</div>\n",
              "    <div class=\"colab-df-buttons\">\n",
              "\n",
              "  <div class=\"colab-df-container\">\n",
              "    <button class=\"colab-df-convert\" onclick=\"convertToInteractive('df-3738e778-65ca-4320-8f25-fe5879cd50b0')\"\n",
              "            title=\"Convert this dataframe to an interactive table.\"\n",
              "            style=\"display:none;\">\n",
              "\n",
              "  <svg xmlns=\"http://www.w3.org/2000/svg\" height=\"24px\" viewBox=\"0 -960 960 960\">\n",
              "    <path d=\"M120-120v-720h720v720H120Zm60-500h600v-160H180v160Zm220 220h160v-160H400v160Zm0 220h160v-160H400v160ZM180-400h160v-160H180v160Zm440 0h160v-160H620v160ZM180-180h160v-160H180v160Zm440 0h160v-160H620v160Z\"/>\n",
              "  </svg>\n",
              "    </button>\n",
              "\n",
              "  <style>\n",
              "    .colab-df-container {\n",
              "      display:flex;\n",
              "      gap: 12px;\n",
              "    }\n",
              "\n",
              "    .colab-df-convert {\n",
              "      background-color: #E8F0FE;\n",
              "      border: none;\n",
              "      border-radius: 50%;\n",
              "      cursor: pointer;\n",
              "      display: none;\n",
              "      fill: #1967D2;\n",
              "      height: 32px;\n",
              "      padding: 0 0 0 0;\n",
              "      width: 32px;\n",
              "    }\n",
              "\n",
              "    .colab-df-convert:hover {\n",
              "      background-color: #E2EBFA;\n",
              "      box-shadow: 0px 1px 2px rgba(60, 64, 67, 0.3), 0px 1px 3px 1px rgba(60, 64, 67, 0.15);\n",
              "      fill: #174EA6;\n",
              "    }\n",
              "\n",
              "    .colab-df-buttons div {\n",
              "      margin-bottom: 4px;\n",
              "    }\n",
              "\n",
              "    [theme=dark] .colab-df-convert {\n",
              "      background-color: #3B4455;\n",
              "      fill: #D2E3FC;\n",
              "    }\n",
              "\n",
              "    [theme=dark] .colab-df-convert:hover {\n",
              "      background-color: #434B5C;\n",
              "      box-shadow: 0px 1px 3px 1px rgba(0, 0, 0, 0.15);\n",
              "      filter: drop-shadow(0px 1px 2px rgba(0, 0, 0, 0.3));\n",
              "      fill: #FFFFFF;\n",
              "    }\n",
              "  </style>\n",
              "\n",
              "    <script>\n",
              "      const buttonEl =\n",
              "        document.querySelector('#df-3738e778-65ca-4320-8f25-fe5879cd50b0 button.colab-df-convert');\n",
              "      buttonEl.style.display =\n",
              "        google.colab.kernel.accessAllowed ? 'block' : 'none';\n",
              "\n",
              "      async function convertToInteractive(key) {\n",
              "        const element = document.querySelector('#df-3738e778-65ca-4320-8f25-fe5879cd50b0');\n",
              "        const dataTable =\n",
              "          await google.colab.kernel.invokeFunction('convertToInteractive',\n",
              "                                                    [key], {});\n",
              "        if (!dataTable) return;\n",
              "\n",
              "        const docLinkHtml = 'Like what you see? Visit the ' +\n",
              "          '<a target=\"_blank\" href=https://colab.research.google.com/notebooks/data_table.ipynb>data table notebook</a>'\n",
              "          + ' to learn more about interactive tables.';\n",
              "        element.innerHTML = '';\n",
              "        dataTable['output_type'] = 'display_data';\n",
              "        await google.colab.output.renderOutput(dataTable, element);\n",
              "        const docLink = document.createElement('div');\n",
              "        docLink.innerHTML = docLinkHtml;\n",
              "        element.appendChild(docLink);\n",
              "      }\n",
              "    </script>\n",
              "  </div>\n",
              "\n",
              "\n",
              "<div id=\"df-7ddc016f-e1ed-49e4-9770-8791ab2df35f\">\n",
              "  <button class=\"colab-df-quickchart\" onclick=\"quickchart('df-7ddc016f-e1ed-49e4-9770-8791ab2df35f')\"\n",
              "            title=\"Suggest charts\"\n",
              "            style=\"display:none;\">\n",
              "\n",
              "<svg xmlns=\"http://www.w3.org/2000/svg\" height=\"24px\"viewBox=\"0 0 24 24\"\n",
              "     width=\"24px\">\n",
              "    <g>\n",
              "        <path d=\"M19 3H5c-1.1 0-2 .9-2 2v14c0 1.1.9 2 2 2h14c1.1 0 2-.9 2-2V5c0-1.1-.9-2-2-2zM9 17H7v-7h2v7zm4 0h-2V7h2v10zm4 0h-2v-4h2v4z\"/>\n",
              "    </g>\n",
              "</svg>\n",
              "  </button>\n",
              "\n",
              "<style>\n",
              "  .colab-df-quickchart {\n",
              "      --bg-color: #E8F0FE;\n",
              "      --fill-color: #1967D2;\n",
              "      --hover-bg-color: #E2EBFA;\n",
              "      --hover-fill-color: #174EA6;\n",
              "      --disabled-fill-color: #AAA;\n",
              "      --disabled-bg-color: #DDD;\n",
              "  }\n",
              "\n",
              "  [theme=dark] .colab-df-quickchart {\n",
              "      --bg-color: #3B4455;\n",
              "      --fill-color: #D2E3FC;\n",
              "      --hover-bg-color: #434B5C;\n",
              "      --hover-fill-color: #FFFFFF;\n",
              "      --disabled-bg-color: #3B4455;\n",
              "      --disabled-fill-color: #666;\n",
              "  }\n",
              "\n",
              "  .colab-df-quickchart {\n",
              "    background-color: var(--bg-color);\n",
              "    border: none;\n",
              "    border-radius: 50%;\n",
              "    cursor: pointer;\n",
              "    display: none;\n",
              "    fill: var(--fill-color);\n",
              "    height: 32px;\n",
              "    padding: 0;\n",
              "    width: 32px;\n",
              "  }\n",
              "\n",
              "  .colab-df-quickchart:hover {\n",
              "    background-color: var(--hover-bg-color);\n",
              "    box-shadow: 0 1px 2px rgba(60, 64, 67, 0.3), 0 1px 3px 1px rgba(60, 64, 67, 0.15);\n",
              "    fill: var(--button-hover-fill-color);\n",
              "  }\n",
              "\n",
              "  .colab-df-quickchart-complete:disabled,\n",
              "  .colab-df-quickchart-complete:disabled:hover {\n",
              "    background-color: var(--disabled-bg-color);\n",
              "    fill: var(--disabled-fill-color);\n",
              "    box-shadow: none;\n",
              "  }\n",
              "\n",
              "  .colab-df-spinner {\n",
              "    border: 2px solid var(--fill-color);\n",
              "    border-color: transparent;\n",
              "    border-bottom-color: var(--fill-color);\n",
              "    animation:\n",
              "      spin 1s steps(1) infinite;\n",
              "  }\n",
              "\n",
              "  @keyframes spin {\n",
              "    0% {\n",
              "      border-color: transparent;\n",
              "      border-bottom-color: var(--fill-color);\n",
              "      border-left-color: var(--fill-color);\n",
              "    }\n",
              "    20% {\n",
              "      border-color: transparent;\n",
              "      border-left-color: var(--fill-color);\n",
              "      border-top-color: var(--fill-color);\n",
              "    }\n",
              "    30% {\n",
              "      border-color: transparent;\n",
              "      border-left-color: var(--fill-color);\n",
              "      border-top-color: var(--fill-color);\n",
              "      border-right-color: var(--fill-color);\n",
              "    }\n",
              "    40% {\n",
              "      border-color: transparent;\n",
              "      border-right-color: var(--fill-color);\n",
              "      border-top-color: var(--fill-color);\n",
              "    }\n",
              "    60% {\n",
              "      border-color: transparent;\n",
              "      border-right-color: var(--fill-color);\n",
              "    }\n",
              "    80% {\n",
              "      border-color: transparent;\n",
              "      border-right-color: var(--fill-color);\n",
              "      border-bottom-color: var(--fill-color);\n",
              "    }\n",
              "    90% {\n",
              "      border-color: transparent;\n",
              "      border-bottom-color: var(--fill-color);\n",
              "    }\n",
              "  }\n",
              "</style>\n",
              "\n",
              "  <script>\n",
              "    async function quickchart(key) {\n",
              "      const quickchartButtonEl =\n",
              "        document.querySelector('#' + key + ' button');\n",
              "      quickchartButtonEl.disabled = true;  // To prevent multiple clicks.\n",
              "      quickchartButtonEl.classList.add('colab-df-spinner');\n",
              "      try {\n",
              "        const charts = await google.colab.kernel.invokeFunction(\n",
              "            'suggestCharts', [key], {});\n",
              "      } catch (error) {\n",
              "        console.error('Error during call to suggestCharts:', error);\n",
              "      }\n",
              "      quickchartButtonEl.classList.remove('colab-df-spinner');\n",
              "      quickchartButtonEl.classList.add('colab-df-quickchart-complete');\n",
              "    }\n",
              "    (() => {\n",
              "      let quickchartButtonEl =\n",
              "        document.querySelector('#df-7ddc016f-e1ed-49e4-9770-8791ab2df35f button');\n",
              "      quickchartButtonEl.style.display =\n",
              "        google.colab.kernel.accessAllowed ? 'block' : 'none';\n",
              "    })();\n",
              "  </script>\n",
              "</div>\n",
              "    </div>\n",
              "  </div>\n"
            ]
          },
          "metadata": {},
          "execution_count": 3
        }
      ]
    },
    {
      "cell_type": "markdown",
      "source": [
        "The next thing we need to do is to convert the labels and reviews to NumPy arrays as pre-processing methods favor arrays instead of pandas series:"
      ],
      "metadata": {
        "id": "3cF2ADe7Dy8b"
      }
    },
    {
      "cell_type": "code",
      "source": [
        "sentences = df['text'].to_numpy()\n",
        "labels = df['sentiment'].to_numpy()"
      ],
      "metadata": {
        "id": "5xC8Wu82DdPG"
      },
      "execution_count": null,
      "outputs": []
    },
    {
      "cell_type": "markdown",
      "source": [
        "Before any pre-processing, we need to split our dataset into training and test instances so that we can evaluate the accuracy of the trained model using the test dataset. We will use a 75:25 split for training and testing data, respectively:"
      ],
      "metadata": {
        "id": "KCoW-zBND3dU"
      }
    },
    {
      "cell_type": "code",
      "source": [
        "from sklearn.model_selection import train_test_split\n",
        "X_train, X_test, y_train, y_test = train_test_split(sentences, labels, test_size=0.25)\n",
        "print(\"Training Data Input Shape: \", X_train.shape)\n",
        "print(\"Training Data Output Shape: \", y_train.shape)\n",
        "print(\"Testing Data Input Shape: \", X_test.shape)\n",
        "print(\"Testing Data Output Shape: \", y_test.shape)"
      ],
      "metadata": {
        "colab": {
          "base_uri": "https://localhost:8080/"
        },
        "id": "njmMle8ED4N9",
        "outputId": "9935ad52-8129-4b04-dfc4-f141aadddcf8"
      },
      "execution_count": null,
      "outputs": [
        {
          "output_type": "stream",
          "name": "stdout",
          "text": [
            "Training Data Input Shape:  (3026,)\n",
            "Training Data Output Shape:  (3026,)\n",
            "Testing Data Input Shape:  (1009,)\n",
            "Testing Data Output Shape:  (1009,)\n"
          ]
        }
      ]
    },
    {
      "cell_type": "markdown",
      "source": [
        "To build a mathematical model, we need to convert textual data (reviews) into numeric values. For most of the NLP tasks, tokenization is performed on the entire text corpus which basically includes all the training data reviews in our scenario.\n",
        "\n",
        "During tokenization, sentences are tokenized into a set of individual words and then statistical features are calculated for each word such as:\n",
        "\n",
        "**word_counts:** Represents the dictionary of words along with the word count in the entire text corpus\n",
        "\n",
        "**word_docs:** Represents the dictionary of words depicting the number of documents in the text corpus containing a specific word\n",
        "\n",
        "**word_index:** A unique index assigned to a dictionary of words\n",
        "\n",
        "**document_count:** Represents the number of documents used for fitting the tokenizer\n",
        "\n",
        "To perform the tokenization of training data, we need to specify the vocabulary size which indicates the number of words having a maximum frequency count."
      ],
      "metadata": {
        "id": "RmQv5EEMOJmu"
      }
    },
    {
      "cell_type": "code",
      "source": [
        "from tensorflow.keras.preprocessing.text import Tokenizer\n",
        "vocab_size = 10000\n",
        "oov_tok = \"<OOV>\"\n",
        "tokenizer = Tokenizer(num_words=vocab_size, oov_token=oov_tok)"
      ],
      "metadata": {
        "id": "-RjJI1rZOXN-"
      },
      "execution_count": null,
      "outputs": []
    },
    {
      "cell_type": "markdown",
      "source": [
        "Here, we will consider only the first `10000` words based on their frequency in the entire training data. Also, we have specified `oov_tok` as `<OOV>` which will replace any unknown word in the text corpus.\n",
        "\n",
        "Out Of Vocab: OOV\n",
        "\n",
        "Once we have defined the hyperparameters for `Tokenizer()`, we need to fit them on the training data using `fit_on_texts()`"
      ],
      "metadata": {
        "id": "hqy1RJpeOZ-g"
      }
    },
    {
      "cell_type": "code",
      "source": [
        "tokenizer.fit_on_texts(X_train)\n",
        "print(\"Number of Documents: \", tokenizer.document_count)\n",
        "print(\"Number of Words: \", tokenizer.num_words)"
      ],
      "metadata": {
        "colab": {
          "base_uri": "https://localhost:8080/"
        },
        "id": "PQNJZqnOO5YG",
        "outputId": "97520971-6a95-402d-e0b8-04660f4c4e74"
      },
      "execution_count": null,
      "outputs": [
        {
          "output_type": "stream",
          "name": "stdout",
          "text": [
            "Number of Documents:  3026\n",
            "Number of Words:  10000\n"
          ]
        }
      ]
    },
    {
      "cell_type": "markdown",
      "source": [
        "We can also visualize the count of each word in the overall dictionary as well as the number of documents containing a specific word:"
      ],
      "metadata": {
        "id": "wH96NZnfPDeB"
      }
    },
    {
      "cell_type": "code",
      "source": [
        "tokenizer.word_counts"
      ],
      "metadata": {
        "id": "1ZOi05UYPAa2"
      },
      "execution_count": null,
      "outputs": []
    },
    {
      "cell_type": "markdown",
      "source": [
        "Once we have tokenized the entire text corpus, we need to convert each textual review into a numerical sequence using the fitted tokenizer:"
      ],
      "metadata": {
        "id": "uIN75XcJPXS0"
      }
    },
    {
      "cell_type": "code",
      "source": [
        "train_sequences = tokenizer.texts_to_sequences(X_train)\n",
        "print(f\"Text = {X_train[2]} ==> seq= {train_sequences[2]}\")"
      ],
      "metadata": {
        "colab": {
          "base_uri": "https://localhost:8080/"
        },
        "id": "hC2kjtKNPZk-",
        "outputId": "f40661ad-5b5e-4595-ea99-95f60ea10668"
      },
      "execution_count": null,
      "outputs": [
        {
          "output_type": "stream",
          "name": "stdout",
          "text": [
            "Text = पोखरेल को भाइ त ठिक छैन खायो अनि नेता ले गर्दैन भनु पोखरेल लाई लाज छैन । ==> seq= [215, 2, 457, 17, 92, 29, 1464, 43, 15, 5, 1465, 2670, 215, 4, 130, 29, 3]\n"
          ]
        }
      ]
    },
    {
      "cell_type": "markdown",
      "source": [
        "Each review in the training data is now converted into a numerical sequence which can be fed into a mathematical model for further training purposes.\n",
        "\n",
        "However, the text in each review has different lengths of words and will produce a diverse numeric sequence length from the other reviews.\n",
        "\n",
        "So, we need to limit the sequence lengths to a constant value for each review. We will specify a nominal sequence length of **200** for each review.\n",
        "\n",
        "The numerical sequences having lengths greater than 200 will be truncated at the end, whereas the ones having lengths smaller than 200 will be padded with zeros at the end. We can now specify the sequence padding for numerical sequences of textual reviews:"
      ],
      "metadata": {
        "id": "8Krma_aZP2eF"
      }
    },
    {
      "cell_type": "code",
      "source": [
        "from tensorflow.keras.preprocessing.sequence import pad_sequences\n",
        "\n",
        "sequence_length = 200\n",
        "train_padded = pad_sequences(train_sequences, maxlen=sequence_length, padding='post', truncating='post')\n",
        "train_padded[2]"
      ],
      "metadata": {
        "colab": {
          "base_uri": "https://localhost:8080/"
        },
        "id": "2AnZTx5ZP2Be",
        "outputId": "c4b6cc2f-33eb-43ef-fefb-45e8305919aa"
      },
      "execution_count": null,
      "outputs": [
        {
          "output_type": "execute_result",
          "data": {
            "text/plain": [
              "array([ 215,    2,  457,   17,   92,   29, 1464,   43,   15,    5, 1465,\n",
              "       2670,  215,    4,  130,   29,    3,    0,    0,    0,    0,    0,\n",
              "          0,    0,    0,    0,    0,    0,    0,    0,    0,    0,    0,\n",
              "          0,    0,    0,    0,    0,    0,    0,    0,    0,    0,    0,\n",
              "          0,    0,    0,    0,    0,    0,    0,    0,    0,    0,    0,\n",
              "          0,    0,    0,    0,    0,    0,    0,    0,    0,    0,    0,\n",
              "          0,    0,    0,    0,    0,    0,    0,    0,    0,    0,    0,\n",
              "          0,    0,    0,    0,    0,    0,    0,    0,    0,    0,    0,\n",
              "          0,    0,    0,    0,    0,    0,    0,    0,    0,    0,    0,\n",
              "          0,    0,    0,    0,    0,    0,    0,    0,    0,    0,    0,\n",
              "          0,    0,    0,    0,    0,    0,    0,    0,    0,    0,    0,\n",
              "          0,    0,    0,    0,    0,    0,    0,    0,    0,    0,    0,\n",
              "          0,    0,    0,    0,    0,    0,    0,    0,    0,    0,    0,\n",
              "          0,    0,    0,    0,    0,    0,    0,    0,    0,    0,    0,\n",
              "          0,    0,    0,    0,    0,    0,    0,    0,    0,    0,    0,\n",
              "          0,    0,    0,    0,    0,    0,    0,    0,    0,    0,    0,\n",
              "          0,    0,    0,    0,    0,    0,    0,    0,    0,    0,    0,\n",
              "          0,    0,    0,    0,    0,    0,    0,    0,    0,    0,    0,\n",
              "          0,    0], dtype=int32)"
            ]
          },
          "metadata": {},
          "execution_count": 11
        }
      ]
    },
    {
      "cell_type": "code",
      "source": [
        "test_sequences = tokenizer.texts_to_sequences(X_test)\n",
        "test_padded = pad_sequences(test_sequences, maxlen=sequence_length, padding='post', truncating='post')"
      ],
      "metadata": {
        "id": "h7f5F2GKQWud"
      },
      "execution_count": null,
      "outputs": []
    },
    {
      "cell_type": "markdown",
      "source": [
        "With tokenization, sequence conversion, and padding, we are now done with the pre-processing of the textual reviews.\n",
        "\n",
        "Let’s now advance to building the actual LSTM model for sentiment analysis.\n",
        "\n",
        "## Sentiment Analysis using LSTM\n",
        "\n",
        "LSTM model consists of multiple layers, each one taking input from the previous one and advancing output to the next one. The first layer takes the numerical sequences as input, and the last layer gives the prediction label as the output.\n",
        "\n",
        "We can define a sequential () model to embed the layers of LSTM. Later, we can add as many layers as we want in this sequential model:\n"
      ],
      "metadata": {
        "id": "9mosU2cYUm7O"
      }
    },
    {
      "cell_type": "code",
      "source": [
        "from tensorflow.keras.models import Sequential\n",
        "from tensorflow.keras.layers import LSTM, Dense, Embedding, Bidirectional"
      ],
      "metadata": {
        "id": "Nu-8xppyU9E2"
      },
      "execution_count": null,
      "outputs": []
    },
    {
      "cell_type": "code",
      "source": [
        "model = Sequential()"
      ],
      "metadata": {
        "id": "SRWKk9SaUoH1"
      },
      "execution_count": null,
      "outputs": []
    },
    {
      "cell_type": "markdown",
      "source": [
        "Firstly, we will add an embedding layer which will convert each word into a dense vector of embedding dimensions specified in the hyperparameters of the layer:"
      ],
      "metadata": {
        "id": "EkjaZFwxU3Zp"
      }
    },
    {
      "cell_type": "code",
      "source": [
        "embedding_dim = 16\n",
        "model.add(Embedding(vocab_size, embedding_dim, input_length=sequence_length))"
      ],
      "metadata": {
        "id": "xIy--hwZU01W"
      },
      "execution_count": null,
      "outputs": []
    },
    {
      "cell_type": "markdown",
      "source": [
        "Here we have specified the vocabulary size as well as the sequence length of each review. Next, we need to specify the Bidirectional() layer and the LSTM layer with a specified unit size in the LSTM layer:"
      ],
      "metadata": {
        "id": "Kk9xO0iEVMZ8"
      }
    },
    {
      "cell_type": "code",
      "source": [
        "lstm_out = 32\n",
        "model.add(Bidirectional(LSTM(lstm_out)))"
      ],
      "metadata": {
        "id": "EkFrkgDvVLMF"
      },
      "execution_count": null,
      "outputs": []
    },
    {
      "cell_type": "markdown",
      "source": [
        "One advantage of using **bidirectional LSTM** is that it remembers output from past to future as well as from future to past. This technique can result in more robust models for time series analysis.\n",
        "\n",
        "Next, we will specify a fully connected layer having **10 units and ‘relu’** activation:"
      ],
      "metadata": {
        "id": "8EmxPUiPVTqR"
      }
    },
    {
      "cell_type": "code",
      "source": [
        "model.add(Dense(10, activation='relu'))"
      ],
      "metadata": {
        "id": "TA-A3eigVb_3"
      },
      "execution_count": null,
      "outputs": []
    },
    {
      "cell_type": "markdown",
      "source": [
        "Finally, we will add an **output layer** having only 1 unit and **‘sigmoid’** activation. This layer will output the probability that an input belongs to 1 (or positive) using the **sigmoid filter**.\n",
        "\n",
        "https://towardsdatascience.com/activation-functions-neural-networks-1cbd9f8d91d6"
      ],
      "metadata": {
        "id": "rB29_L8aVeW3"
      }
    },
    {
      "cell_type": "code",
      "source": [
        "model.add(Dense(1, activation='sigmoid'))"
      ],
      "metadata": {
        "id": "Y5XEXqGVVsJE"
      },
      "execution_count": null,
      "outputs": []
    },
    {
      "cell_type": "markdown",
      "source": [
        "Now we need to compile the model such that the model optimizes the `binary_crossentropy` during training. The loss value is the parameter that the `adam` optimizer will minimize by tweaking the weights during the training phase.\n",
        "\n",
        "Essentially, the `adam` optimizer tries to find the global minima for the loss value among all the local minima by optimizing the trainable parameters.\n",
        "\n",
        "Moreover, the `accuracy` of the model will be reported for each training batch/epoch to gauge the convergence of the neural network."
      ],
      "metadata": {
        "id": "QbKWdbfTV2uU"
      }
    },
    {
      "cell_type": "code",
      "source": [
        "model.compile(loss='binary_crossentropy', optimizer='adam', metrics=['accuracy'])"
      ],
      "metadata": {
        "id": "-f1b3KgTV_95"
      },
      "execution_count": null,
      "outputs": []
    },
    {
      "cell_type": "code",
      "source": [
        "model.summary()"
      ],
      "metadata": {
        "colab": {
          "base_uri": "https://localhost:8080/"
        },
        "id": "od2gMFewWCy7",
        "outputId": "a1e050fa-06c8-4a25-b886-41350bd75c6f"
      },
      "execution_count": null,
      "outputs": [
        {
          "output_type": "stream",
          "name": "stdout",
          "text": [
            "Model: \"sequential\"\n",
            "_________________________________________________________________\n",
            " Layer (type)                Output Shape              Param #   \n",
            "=================================================================\n",
            " embedding (Embedding)       (None, 200, 16)           160000    \n",
            "                                                                 \n",
            " bidirectional (Bidirection  (None, 64)                12544     \n",
            " al)                                                             \n",
            "                                                                 \n",
            " dense (Dense)               (None, 10)                650       \n",
            "                                                                 \n",
            " dense_1 (Dense)             (None, 1)                 11        \n",
            "                                                                 \n",
            "=================================================================\n",
            "Total params: 173205 (676.58 KB)\n",
            "Trainable params: 173205 (676.58 KB)\n",
            "Non-trainable params: 0 (0.00 Byte)\n",
            "_________________________________________________________________\n"
          ]
        }
      ]
    },
    {
      "cell_type": "markdown",
      "source": [
        "Before the training, we need to specify the number of epochs for which the network needs to be trained. Obviously, we are not sure about the magic number and we tend to take an educated guess.\n",
        "\n",
        "Let’s just say that we specified the number of epochs to be 10 whereas our model was converged to minimum validation loss after 2 epochs. The remaining 8 epochs will only tend to overfit the model on the training data. So, how will we avoid this situation?\n",
        "\n",
        "It’s simple… You specify the callback for `EarlyStopping()`, which will halt the model training after the model fails to minimize the validation loss value after the stated no. of epochs in the callback parameters.\n",
        "\\\n",
        "```\n",
        "checkpoint_filepath = os.getcwd()\n",
        "model_checkpoint_callback = ModelCheckpoint(filepath=checkpoint_filepath, save_weights_only=False, monitor='val_loss', mode='min', save_best_only=True)\n",
        "callbacks = [EarlyStopping(patience=2), model_checkpoint_callback]\n",
        "```\n",
        "\n",
        "Along with the callback for `EarlyStopping()`, you can specify the `ModelCheckpoint()` to monitor the loss after each epoch and save the best model in terms of validation loss.\n",
        "\n",
        "Now, we will **fit** our model on the training data for a maximum of **10 epochs**.\n",
        "\n",
        "Since we have specified the callback to monitor the loss on the validation dataset, we need to specify the validation data as well. If the validation loss of the model is not minimized for two consecutive epochs, the training of the model will halt as specified in the callback."
      ],
      "metadata": {
        "id": "Ne6wmg_YWTSr"
      }
    },
    {
      "cell_type": "code",
      "source": [
        "history = model.fit(train_padded, y_train, epochs=10, validation_data=(test_padded, y_test), callbacks=[])"
      ],
      "metadata": {
        "colab": {
          "base_uri": "https://localhost:8080/"
        },
        "id": "CxraDpzaWhtt",
        "outputId": "256daefc-c7b7-4492-8f55-8eea8c9ef802"
      },
      "execution_count": null,
      "outputs": [
        {
          "output_type": "stream",
          "name": "stdout",
          "text": [
            "Epoch 1/10\n",
            "95/95 [==============================] - 19s 157ms/step - loss: 0.6839 - accuracy: 0.5615 - val_loss: 0.6587 - val_accuracy: 0.6967\n",
            "Epoch 2/10\n",
            "95/95 [==============================] - 13s 141ms/step - loss: 0.5777 - accuracy: 0.7399 - val_loss: 0.5738 - val_accuracy: 0.7156\n",
            "Epoch 3/10\n",
            "95/95 [==============================] - 14s 143ms/step - loss: 0.4261 - accuracy: 0.8136 - val_loss: 0.6106 - val_accuracy: 0.7066\n",
            "Epoch 4/10\n",
            "95/95 [==============================] - 14s 143ms/step - loss: 0.3243 - accuracy: 0.8602 - val_loss: 0.6650 - val_accuracy: 0.6908\n",
            "Epoch 5/10\n",
            "95/95 [==============================] - 15s 153ms/step - loss: 0.2616 - accuracy: 0.8771 - val_loss: 0.7331 - val_accuracy: 0.6858\n",
            "Epoch 6/10\n",
            "95/95 [==============================] - 13s 138ms/step - loss: 0.2302 - accuracy: 0.8870 - val_loss: 0.7404 - val_accuracy: 0.6660\n",
            "Epoch 7/10\n",
            "95/95 [==============================] - 13s 138ms/step - loss: 0.2070 - accuracy: 0.8933 - val_loss: 0.8850 - val_accuracy: 0.6779\n",
            "Epoch 8/10\n",
            "95/95 [==============================] - 14s 150ms/step - loss: 0.1951 - accuracy: 0.8890 - val_loss: 0.9018 - val_accuracy: 0.6670\n",
            "Epoch 9/10\n",
            "95/95 [==============================] - 13s 140ms/step - loss: 0.1851 - accuracy: 0.8909 - val_loss: 1.0054 - val_accuracy: 0.6838\n",
            "Epoch 10/10\n",
            "95/95 [==============================] - 13s 136ms/step - loss: 0.1793 - accuracy: 0.8949 - val_loss: 0.9001 - val_accuracy: 0.6650\n"
          ]
        }
      ]
    },
    {
      "cell_type": "markdown",
      "source": [
        "Since we saved the model params in the `history` variable, we can visualize the training/testing data loss and accuracy:"
      ],
      "metadata": {
        "id": "Cw9HtjgPbDI_"
      }
    },
    {
      "cell_type": "code",
      "source": [
        "metrics_df = pd.DataFrame(history.history)\n",
        "print(metrics_df)"
      ],
      "metadata": {
        "colab": {
          "base_uri": "https://localhost:8080/"
        },
        "id": "k3HKv-fdbHQm",
        "outputId": "d49fa840-f026-4581-bb96-5309b86e09ef"
      },
      "execution_count": null,
      "outputs": [
        {
          "output_type": "stream",
          "name": "stdout",
          "text": [
            "       loss  accuracy  val_loss  val_accuracy\n",
            "0  0.683926  0.561467  0.658749      0.696729\n",
            "1  0.577742  0.739921  0.573786      0.715560\n",
            "2  0.426148  0.813615  0.610632      0.706640\n",
            "3  0.324301  0.860211  0.664976      0.690783\n",
            "4  0.261605  0.877065  0.733063      0.685828\n",
            "5  0.230223  0.886980  0.740399      0.666006\n",
            "6  0.206977  0.893258  0.884996      0.677899\n",
            "7  0.195110  0.888962  0.901830      0.666997\n",
            "8  0.185054  0.890945  1.005403      0.683845\n",
            "9  0.179333  0.894911  0.900059      0.665015\n"
          ]
        }
      ]
    },
    {
      "cell_type": "code",
      "source": [
        "history_dict = history.history\n",
        "history_dict.keys()"
      ],
      "metadata": {
        "colab": {
          "base_uri": "https://localhost:8080/"
        },
        "id": "PsRsB5YAbdL9",
        "outputId": "a668d844-82f4-4736-c3e1-c1b5c2230083"
      },
      "execution_count": null,
      "outputs": [
        {
          "output_type": "execute_result",
          "data": {
            "text/plain": [
              "dict_keys(['loss', 'accuracy', 'val_loss', 'val_accuracy'])"
            ]
          },
          "metadata": {},
          "execution_count": 23
        }
      ]
    },
    {
      "cell_type": "code",
      "source": [
        "acc = history_dict['accuracy']\n",
        "val_acc = history_dict['val_accuracy']\n",
        "loss = history_dict['loss']\n",
        "val_loss = history_dict['val_loss']\n",
        "\n",
        "epochs = range(1, len(acc) + 1)"
      ],
      "metadata": {
        "id": "rH5AfNSSbXpV"
      },
      "execution_count": null,
      "outputs": []
    },
    {
      "cell_type": "code",
      "source": [
        "plt.plot(epochs, loss, 'b', label='Training loss')\n",
        "# r is for \"solid red line\"\n",
        "plt.plot(epochs, val_loss, 'r', label='Validation loss')\n",
        "plt.title('Training and validation loss')\n",
        "plt.xlabel('Epochs')\n",
        "plt.ylabel('Loss')\n",
        "plt.legend()\n",
        "\n",
        "plt.show()"
      ],
      "metadata": {
        "colab": {
          "base_uri": "https://localhost:8080/",
          "height": 472
        },
        "id": "FYSUprqPbjb9",
        "outputId": "89ddfc55-b4b0-492e-9bd1-7b738425253b"
      },
      "execution_count": null,
      "outputs": [
        {
          "output_type": "display_data",
          "data": {
            "text/plain": [
              "<Figure size 640x480 with 1 Axes>"
            ],
            "image/png": "[encoded data removed]"
          },
          "metadata": {}
        }
      ]
    },
    {
      "cell_type": "code",
      "source": [
        "plt.plot(epochs, acc, 'b', label='Training acc')\n",
        "plt.plot(epochs, val_acc, 'r', label='Validation acc')\n",
        "plt.title('Training and validation accuracy')\n",
        "plt.xlabel('Epochs')\n",
        "plt.ylabel('Accuracy')\n",
        "plt.legend(loc='lower right')\n",
        "plt.show()"
      ],
      "metadata": {
        "id": "LqAKPstlb4YR",
        "colab": {
          "base_uri": "https://localhost:8080/",
          "height": 472
        },
        "outputId": "d0f7dd2f-6fd8-4d3a-9a0d-a21e854488e5"
      },
      "execution_count": null,
      "outputs": [
        {
          "output_type": "display_data",
          "data": {
            "text/plain": [
              "<Figure size 640x480 with 1 Axes>"
            ],
            "image/png": "[encoded data removed]"
          },
          "metadata": {}
        }
      ]
    },
    {
      "cell_type": "markdown",
      "source": [
        "## prediction"
      ],
      "metadata": {
        "id": "AT6efMuhcI6X"
      }
    },
    {
      "cell_type": "code",
      "source": [
        "# pred_input = pd.DataFrame([[\n",
        "#   \"मलाई मेरो देश राम्रो लाग्छ\",\n",
        "#   \"यो गेम राम्रो छैन\"\n",
        "# ]])\n",
        "# pred_input = pred_input.to_numpy()\n",
        "\n",
        "pred_input = np.array( [\"मलाई मेरो देश राम्रो लाग्छ\",  \"यो गेम राम्रो छैन\"] )\n",
        "pred_input"
      ],
      "metadata": {
        "colab": {
          "base_uri": "https://localhost:8080/"
        },
        "id": "002rBrcXcIiO",
        "outputId": "35c06f19-ebe2-4c47-ec28-204ef14c9b84"
      },
      "execution_count": null,
      "outputs": [
        {
          "output_type": "execute_result",
          "data": {
            "text/plain": [
              "array(['मलाई मेरो देश राम्रो लाग्छ', 'यो गेम राम्रो छैन'], dtype='<U26')"
            ]
          },
          "metadata": {},
          "execution_count": 32
        }
      ]
    },
    {
      "cell_type": "code",
      "source": [
        "print(pred_input)"
      ],
      "metadata": {
        "colab": {
          "base_uri": "https://localhost:8080/"
        },
        "id": "JscS9up_eGSk",
        "outputId": "2876dbb5-4333-4399-c2a7-f76a5264c125"
      },
      "execution_count": null,
      "outputs": [
        {
          "output_type": "stream",
          "name": "stdout",
          "text": [
            "['मलाई मेरो देश राम्रो लाग्छ' 'यो गेम राम्रो छैन']\n"
          ]
        }
      ]
    },
    {
      "cell_type": "code",
      "source": [
        "# test_sequences = tokenizer.texts_to_sequences(X_test)\n",
        "# test_padded = pad_sequences(test_sequences, maxlen=sequence_length, padding='post', truncating='post')\n",
        "\n",
        "pred_sequences = tokenizer.texts_to_sequences(pred_input)\n",
        "pred_padded = pad_sequences(pred_sequences, maxlen=sequence_length, padding='post', truncating='post')"
      ],
      "metadata": {
        "id": "zDgJWhHPc2Ye"
      },
      "execution_count": null,
      "outputs": []
    },
    {
      "cell_type": "code",
      "source": [
        "         # 0: +ve\n",
        "# 1: -ve\n",
        "model.predict(pred_padded)"
      ],
      "metadata": {
        "colab": {
          "base_uri": "https://localhost:8080/"
        },
        "id": "pBe0glqedeYs",
        "outputId": "74ef66ed-d13a-40d9-93e4-f1eab89c6ad3"
      },
      "execution_count": null,
      "outputs": [
        {
          "output_type": "stream",
          "name": "stdout",
          "text": [
            "1/1 [==============================] - 0s 32ms/step\n"
          ]
        },
        {
          "output_type": "execute_result",
          "data": {
            "text/plain": [
              "array([[0.04185771],\n",
              "       [0.16846283]], dtype=float32)"
            ]
          },
          "metadata": {},
          "execution_count": 35
        }
      ]
    }
  ]
}